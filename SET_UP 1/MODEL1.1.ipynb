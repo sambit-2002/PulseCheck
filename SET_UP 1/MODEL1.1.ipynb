{
 "cells": [
  {
   "cell_type": "code",
   "execution_count": 1,
   "id": "5b5a8e03",
   "metadata": {},
   "outputs": [
    {
     "name": "stdout",
     "output_type": "stream",
     "text": [
      "WARNING:tensorflow:From C:\\Users\\nehit\\anaconda3\\Lib\\site-packages\\keras\\src\\losses.py:2976: The name tf.losses.sparse_softmax_cross_entropy is deprecated. Please use tf.compat.v1.losses.sparse_softmax_cross_entropy instead.\n",
      "\n"
     ]
    }
   ],
   "source": [
    "import numpy as np\n",
    "import pandas as pd\n",
    "import matplotlib.pyplot as plt\n",
    "import pathlib\n",
    "import os\n",
    "import glob as gb\n",
    "import cv2\n",
    "import PIL\n",
    "import seaborn as sns\n",
    "from sklearn.metrics import accuracy_score\n",
    "from sklearn.model_selection import train_test_split\n",
    "\n",
    "from tensorflow.keras.callbacks import EarlyStopping ,ReduceLROnPlateau \n",
    "from tensorflow.keras.models import Sequential\n",
    "from tensorflow.keras.layers import Conv2D , Dense , Dropout , Flatten , MaxPooling2D , BatchNormalization ,experimental\n",
    "from tensorflow.keras.utils import to_categorical\n",
    "from keras.applications.vgg16 import VGG16\n",
    "from keras.applications.vgg19 import VGG19\n",
    "from tensorflow import keras\n",
    "from keras.models import Model"
   ]
  },
  {
   "cell_type": "code",
   "execution_count": 2,
   "id": "294dbf05",
   "metadata": {},
   "outputs": [],
   "source": [
    "import numpy as np\n",
    "import pandas as pd\n",
    "import matplotlib.pyplot as plt\n",
    "import pathlib\n",
    "import os\n",
    "import glob as gb\n",
    "import cv2\n",
    "\n",
    "import numpy as np\n",
    "from sklearn.model_selection import train_test_split\n",
    "from sklearn.decomposition import PCA\n",
    "import tensorflow as tf\n",
    "from tensorflow.keras import layers, models\n",
    "from sklearn.metrics import confusion_matrix, classification_report, ConfusionMatrixDisplay\n",
    "import matplotlib.pyplot as plt\n",
    "from tensorflow import keras \n",
    "from keras.models import Model \n",
    "import matplotlib.pyplot as plt\n",
    "from tensorflow.keras.models import Sequential\n",
    "from tensorflow.keras.layers import Dense,Dropout\n",
    "from tensorflow.keras.optimizers import Adam\n",
    "from tensorflow.keras import layers\n",
    "from keras_tuner import RandomSearch\n",
    "from tensorflow.keras.layers import Conv2D, MaxPooling2D, Flatten, Dense,AveragePooling2D\n",
    "from tensorflow.keras import layers, optimizers\n",
    "from sklearn.ensemble import RandomForestClassifier\n",
    "from sklearn.metrics import accuracy_score\n",
    "import warnings\n",
    "warnings.filterwarnings('ignore')"
   ]
  },
  {
   "cell_type": "code",
   "execution_count": 3,
   "id": "2d47284a",
   "metadata": {},
   "outputs": [],
   "source": [
    "testpath = 'C:\\\\Users\\\\nehit\\\\Downloads\\\\academics\\\\binaryclassification\\\\test_3'"
   ]
  },
  {
   "cell_type": "code",
   "execution_count": 4,
   "id": "547ba86d",
   "metadata": {},
   "outputs": [
    {
     "name": "stdout",
     "output_type": "stream",
     "text": [
      "Entering to the folder name: abnormal\n",
      "Number of images in the folder is 478\n",
      "Entering to the folder name: normal\n",
      "Number of images in the folder is 491\n"
     ]
    }
   ],
   "source": [
    "test_images=[]\n",
    "test_labels=[]\n",
    "for i in os.listdir(testpath):# entering to the test folder\n",
    "  print(\"Entering to the folder name:\",i)\n",
    "  files=gb.glob(pathname=str(testpath +'/' + i + '/*.png'))# pointing to all the .jpg extension image folder\n",
    "  print(\"Number of images in the folder is\",len(files))\n",
    "  for j in files:\n",
    "      class_cancer={'normal':0,'abnormal':1}\n",
    "      image_raw=cv2.imread(j)\n",
    "      image = cv2.cvtColor(image_raw, cv2.COLOR_BGR2RGB)\n",
    "      test_images.append(list(image))\n",
    "      test_labels.append(class_cancer[i])\n",
    "      "
   ]
  },
  {
   "cell_type": "code",
   "execution_count": 5,
   "id": "8ccfdff7",
   "metadata": {},
   "outputs": [],
   "source": [
    "def list_to_array_test(test_images,test_labels):\n",
    "    \n",
    "  return np.array(test_images),np.array(test_labels)\n",
    "\n",
    "\n",
    "X_test,y_test=list_to_array_test(test_images,test_labels)"
   ]
  },
  {
   "cell_type": "code",
   "execution_count": 6,
   "id": "4084f1ae",
   "metadata": {},
   "outputs": [],
   "source": [
    "X_train, X_test, y_train, y_test = train_test_split(X_test, y_test, test_size=0.2, random_state=42,shuffle=True)"
   ]
  },
  {
   "cell_type": "code",
   "execution_count": 7,
   "id": "90fa9f2a",
   "metadata": {},
   "outputs": [
    {
     "data": {
      "text/plain": [
       "((775, 200, 200, 3), (194, 200, 200, 3), (775,), (194,))"
      ]
     },
     "execution_count": 7,
     "metadata": {},
     "output_type": "execute_result"
    }
   ],
   "source": [
    "X_train.shape, X_test.shape, y_train.shape, y_test.shape"
   ]
  },
  {
   "cell_type": "code",
   "execution_count": 48,
   "id": "61aa8dfb",
   "metadata": {},
   "outputs": [],
   "source": []
  },
  {
   "cell_type": "code",
   "execution_count": 8,
   "id": "a8619b1b",
   "metadata": {},
   "outputs": [],
   "source": [
    "X_train = np.asarray(X_train).astype(np.float32)\n",
    "y_train = np.asarray(y_train).astype(np.float32)\n",
    "X_test = np.asarray(X_test).astype(np.float32)\n",
    "y_test = np.asarray(y_test).astype(np.float32)"
   ]
  },
  {
   "cell_type": "code",
   "execution_count": 9,
   "id": "87803831",
   "metadata": {},
   "outputs": [
    {
     "name": "stdout",
     "output_type": "stream",
     "text": [
      "WARNING:tensorflow:From C:\\Users\\nehit\\anaconda3\\Lib\\site-packages\\keras\\src\\backend.py:1398: The name tf.executing_eagerly_outside_functions is deprecated. Please use tf.compat.v1.executing_eagerly_outside_functions instead.\n",
      "\n",
      "WARNING:tensorflow:From C:\\Users\\nehit\\anaconda3\\Lib\\site-packages\\keras\\src\\layers\\pooling\\max_pooling2d.py:161: The name tf.nn.max_pool is deprecated. Please use tf.nn.max_pool2d instead.\n",
      "\n"
     ]
    }
   ],
   "source": [
    "def model_vgg16():\n",
    "  VGG_model = VGG16(weights='imagenet', include_top=False, input_shape=(200,200, 3))\n",
    "  #Make loaded layers as non-trainable. This is important as we want to work with pre-trained weights\n",
    "  for layer in VGG_model.layers:\n",
    "    layer.trainable = False #True for actual transfer learning\n",
    "  feature=keras.layers.GlobalAveragePooling2D()(VGG_model.output)\n",
    "  output = Model(inputs =VGG_model.input, outputs =feature)\n",
    "  \n",
    "  return output\n",
    "\n",
    "model_FE_16=model_vgg16()"
   ]
  },
  {
   "cell_type": "code",
   "execution_count": 11,
   "id": "dee259c5",
   "metadata": {},
   "outputs": [
    {
     "name": "stdout",
     "output_type": "stream",
     "text": [
      "25/25 [==============================] - 62s 2s/step\n",
      "7/7 [==============================] - 17s 2s/step\n"
     ]
    }
   ],
   "source": [
    "model_FE_16.compile(optimizer='Adam', loss='sparse_categorical_crossentropy', metrics='accuracy')\n",
    "train_feature_16=model_FE_16.predict(X_train)\n",
    "test_feature_16=model_FE_16.predict(X_test)"
   ]
  },
  {
   "cell_type": "code",
   "execution_count": 13,
   "id": "bd7e2760",
   "metadata": {},
   "outputs": [
    {
     "name": "stdout",
     "output_type": "stream",
     "text": [
      "Train Accuracy Score: 0.8993548387096775\n",
      "Test Accuracy Score: 0.654639175257732\n",
      "Precision Score: 0.675\n",
      "Recall Score: 0.5684210526315789\n",
      "F1 Score: 0.6171428571428571\n",
      "Sensitivity: 0.5684210526315789\n",
      "Specificity: 0.7373737373737373\n"
     ]
    }
   ],
   "source": [
    "from sklearn.ensemble import RandomForestClassifier\n",
    "from sklearn.metrics import accuracy_score, precision_score, recall_score, f1_score, confusion_matrix\n",
    "\n",
    "# Instantiate RandomForestClassifier\n",
    "rf = RandomForestClassifier()\n",
    "\n",
    "# Fit the model on training data\n",
    "rf = rf.fit(train_feature_16, y_train)\n",
    "\n",
    "# Predictions on training and test data\n",
    "train_pred = rf.predict(train_feature_16)\n",
    "test_pred = rf.predict(test_feature_16)\n",
    "\n",
    "# Calculate accuracy\n",
    "train_accuracy = accuracy_score(train_pred, y_train)\n",
    "test_accuracy = accuracy_score(test_pred, y_test)\n",
    "\n",
    "# Calculate precision, recall, and F1 scores\n",
    "precision = precision_score(y_test, test_pred)\n",
    "recall = recall_score(y_test, test_pred)\n",
    "f1 = f1_score(y_test, test_pred)\n",
    "\n",
    "# Calculate confusion matrix\n",
    "conf_matrix = confusion_matrix(y_test, test_pred)\n",
    "\n",
    "# Calculate sensitivity and specificity\n",
    "tn, fp, fn, tp = conf_matrix.ravel()\n",
    "sensitivity = tp / (tp + fn)\n",
    "specificity = tn / (tn + fp)\n",
    "\n",
    "# Print the metrics\n",
    "print(\"Train Accuracy Score:\", train_accuracy)\n",
    "print(\"Test Accuracy Score:\", test_accuracy)\n",
    "print(\"Precision Score:\", precision)\n",
    "print(\"Recall Score:\", recall)\n",
    "print(\"F1 Score:\", f1)\n",
    "print(\"Sensitivity:\", sensitivity)\n",
    "print(\"Specificity:\", specificity)\n"
   ]
  },
  {
   "cell_type": "code",
   "execution_count": 21,
   "id": "a00ffc2a",
   "metadata": {},
   "outputs": [
    {
     "name": "stdout",
     "output_type": "stream",
     "text": [
      "Train Accuracy Score:89.93548387096774 %\n",
      "Test Accuracy Score: 67.0103092783505%\n",
      "Precision Score: 69.62025316455697%\n",
      "Recall Score: 57.89473684210527 %\n",
      "F1 Score: 63.2183908045977 %\n",
      "Sensitivity: 57.89473684210527%\n",
      "Specificity: 75.75757575757575%\n"
     ]
    }
   ],
   "source": [
    "from sklearn.ensemble import RandomForestClassifier\n",
    "from sklearn.metrics import accuracy_score, precision_score, recall_score, f1_score, confusion_matrix\n",
    "\n",
    "# Instantiate RandomForestClassifier\n",
    "rf = RandomForestClassifier()\n",
    "\n",
    "# Fit the model on training data\n",
    "rf = rf.fit(train_feature_16, y_train)\n",
    "\n",
    "# Predictions on training and test data\n",
    "train_pred = rf.predict(train_feature_16)\n",
    "test_pred = rf.predict(test_feature_16)\n",
    "\n",
    "# Calculate accuracy\n",
    "train_accuracy = accuracy_score(train_pred, y_train)\n",
    "test_accuracy = accuracy_score(test_pred, y_test)\n",
    "\n",
    "# Calculate precision, recall, and F1 scores\n",
    "precision = precision_score(y_test, test_pred)\n",
    "recall = recall_score(y_test, test_pred)\n",
    "f1 = f1_score(y_test, test_pred)\n",
    "\n",
    "# Calculate confusion matrix\n",
    "conf_matrix = confusion_matrix(y_test, test_pred)\n",
    "\n",
    "# Calculate sensitivity and specificity\n",
    "tn, fp, fn, tp = conf_matrix.ravel()\n",
    "sensitivity = tp / (tp + fn)\n",
    "specificity = tn / (tn + fp)\n",
    "\n",
    "# Print the metrics\n",
    "print(\"Train Accuracy Score:\"+ str(train_accuracy*100) +\" %\")\n",
    "print(\"Test Accuracy Score:\", str(test_accuracy*100) + \"%\")\n",
    "print(\"Precision Score:\",str( precision*100) +\"%\")\n",
    "print(\"Recall Score:\", str(recall*100)+\" %\")\n",
    "print(\"F1 Score:\", str(f1*100) +\" %\")\n",
    "print(\"Sensitivity:\", str(sensitivity*100) + \"%\")\n",
    "print(\"Specificity:\", str(specificity*100) + \"%\")\n"
   ]
  },
  {
   "cell_type": "code",
   "execution_count": 22,
   "id": "d3376d6e",
   "metadata": {},
   "outputs": [
    {
     "name": "stdout",
     "output_type": "stream",
     "text": [
      "[[75 24]\n",
      " [40 55]]\n"
     ]
    }
   ],
   "source": [
    "print(conf_matrix)"
   ]
  }
 ],
 "metadata": {
  "kernelspec": {
   "display_name": "Python 3 (ipykernel)",
   "language": "python",
   "name": "python3"
  },
  "language_info": {
   "codemirror_mode": {
    "name": "ipython",
    "version": 3
   },
   "file_extension": ".py",
   "mimetype": "text/x-python",
   "name": "python",
   "nbconvert_exporter": "python",
   "pygments_lexer": "ipython3",
   "version": "3.11.5"
  }
 },
 "nbformat": 4,
 "nbformat_minor": 5
}
